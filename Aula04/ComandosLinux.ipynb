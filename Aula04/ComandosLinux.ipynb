{
 "cells": [
  {
   "cell_type": "markdown",
   "metadata": {
    "collapsed": false
   },
   "source": [
    "# Linux\n"
   ]
  },
  {
   "cell_type": "markdown",
   "metadata": {
    "collapsed": false
   },
   "source": [
    "- Sistemas Operacionais\n",
    "    - Unix\n",
    "    - Windows\n",
    "    - Linux"
   ]
  },
  {
   "cell_type": "markdown",
   "metadata": {
    "collapsed": false
   },
   "source": [
    "- História do Linux\n",
    "    - Software Livre \n",
    "    - Richard Stallman\n",
    "    - Linus Torvalds\n",
    "    - GNU/Linux"
   ]
  },
  {
   "cell_type": "markdown",
   "metadata": {
    "collapsed": false
   },
   "source": [
    "## Richard Stallman\n",
    "![Stalllman](https://torrentfreak.com/images/stallman.jpg)"
   ]
  },
  {
   "cell_type": "markdown",
   "metadata": {
    "collapsed": false
   },
   "source": [
    "## Linus  Torvalds\n",
    "![Linus](https://regmedia.co.uk/2016/08/26/torvalds.jpg?x=648&y=348&crop=1)"
   ]
  },
  {
   "cell_type": "markdown",
   "metadata": {
    "collapsed": false
   },
   "source": [
    "### Interação com o SO\n",
    "- Linha de Comando\n",
    "    - bash\n",
    "    - zsh\n",
    "    - powershell\n",
    "- Interface Gráfica\n",
    "    - windows\n",
    "    - X11"
   ]
  },
  {
   "cell_type": "markdown",
   "metadata": {
    "collapsed": false
   },
   "source": [
    "## Shell "
   ]
  },
  {
   "attachments": {},
   "cell_type": "markdown",
   "metadata": {
    "collapsed": false
   },
   "source": [
    "O Colab versão Free permite que você acesse a um terminal Linux:\n",
    "\n"
   ]
  },
  {
   "cell_type": "code",
   "execution_count": 1,
   "metadata": {},
   "outputs": [
    {
     "name": "stdout",
     "output_type": "stream",
     "text": [
      "Defaulting to user installation because normal site-packages is not writeable\n",
      "Collecting colab-xterm\n",
      "  Downloading colab_xterm-0.1.2-py3-none-any.whl (115 kB)\n",
      "\u001b[2K     \u001b[90m━━━━━━━━━━━━━━━━━━━━━━━━━━━━━━━━━━━━━━━\u001b[0m \u001b[32m115.3/115.3 kB\u001b[0m \u001b[31m5.8 MB/s\u001b[0m eta \u001b[36m0:00:00\u001b[0m\n",
      "\u001b[?25hRequirement already satisfied: ptyprocess~=0.7.0 in /home/lemke/.local/lib/python3.8/site-packages (from colab-xterm) (0.7.0)\n",
      "Requirement already satisfied: tornado>5.1 in /home/lemke/.local/lib/python3.8/site-packages (from colab-xterm) (6.2)\n",
      "Installing collected packages: colab-xterm\n",
      "Successfully installed colab-xterm-0.1.2\n"
     ]
    },
    {
     "data": {
      "text/plain": [
       "Launching Xterm..."
      ]
     },
     "metadata": {},
     "output_type": "display_data"
    },
    {
     "ename": "FileNotFoundError",
     "evalue": "[Errno 2] No such file or directory: 'python'",
     "output_type": "error",
     "traceback": [
      "\u001b[0;31m---------------------------------------------------------------------------\u001b[0m",
      "\u001b[0;31mFileNotFoundError\u001b[0m                         Traceback (most recent call last)",
      "Cell \u001b[0;32mIn [1], line 4\u001b[0m\n\u001b[1;32m      2\u001b[0m get_ipython()\u001b[39m.\u001b[39msystem(\u001b[39m'\u001b[39m\u001b[39mpip install colab-xterm\u001b[39m\u001b[39m'\u001b[39m)\n\u001b[1;32m      3\u001b[0m get_ipython()\u001b[39m.\u001b[39mrun_line_magic(\u001b[39m'\u001b[39m\u001b[39mload_ext\u001b[39m\u001b[39m'\u001b[39m, \u001b[39m'\u001b[39m\u001b[39mcolabxterm\u001b[39m\u001b[39m'\u001b[39m)\n\u001b[0;32m----> 4\u001b[0m get_ipython()\u001b[39m.\u001b[39;49mrun_line_magic(\u001b[39m'\u001b[39;49m\u001b[39mxterm\u001b[39;49m\u001b[39m'\u001b[39;49m, \u001b[39m'\u001b[39;49m\u001b[39m'\u001b[39;49m)\n",
      "File \u001b[0;32m~/.local/lib/python3.8/site-packages/IPython/core/interactiveshell.py:2309\u001b[0m, in \u001b[0;36mInteractiveShell.run_line_magic\u001b[0;34m(self, magic_name, line, _stack_depth)\u001b[0m\n\u001b[1;32m   2307\u001b[0m     kwargs[\u001b[39m'\u001b[39m\u001b[39mlocal_ns\u001b[39m\u001b[39m'\u001b[39m] \u001b[39m=\u001b[39m \u001b[39mself\u001b[39m\u001b[39m.\u001b[39mget_local_scope(stack_depth)\n\u001b[1;32m   2308\u001b[0m \u001b[39mwith\u001b[39;00m \u001b[39mself\u001b[39m\u001b[39m.\u001b[39mbuiltin_trap:\n\u001b[0;32m-> 2309\u001b[0m     result \u001b[39m=\u001b[39m fn(\u001b[39m*\u001b[39;49margs, \u001b[39m*\u001b[39;49m\u001b[39m*\u001b[39;49mkwargs)\n\u001b[1;32m   2310\u001b[0m \u001b[39mreturn\u001b[39;00m result\n",
      "File \u001b[0;32m~/.local/lib/python3.8/site-packages/colabxterm/notebook.py:84\u001b[0m, in \u001b[0;36m_xterm_magic\u001b[0;34m(args_string)\u001b[0m\n\u001b[1;32m     81\u001b[0m         \u001b[39mbreak\u001b[39;00m\n\u001b[1;32m     82\u001b[0m     port \u001b[39m=\u001b[39m port\u001b[39m+\u001b[39m\u001b[39m1\u001b[39m\n\u001b[0;32m---> 84\u001b[0m manager\u001b[39m.\u001b[39;49mstart(parsed_args, port)\n\u001b[1;32m     85\u001b[0m fn \u001b[39m=\u001b[39m {\n\u001b[1;32m     86\u001b[0m     _CONTEXT_COLAB: _display_colab,\n\u001b[1;32m     87\u001b[0m     _CONTEXT_IPYTHON: _display_ipython,\n\u001b[1;32m     88\u001b[0m     _CONTEXT_NONE: _display_cli,\n\u001b[1;32m     89\u001b[0m }[_get_context()]\n\u001b[1;32m     90\u001b[0m \u001b[39mreturn\u001b[39;00m fn(port\u001b[39m=\u001b[39mport, height\u001b[39m=\u001b[39mheight)\n",
      "File \u001b[0;32m~/.local/lib/python3.8/site-packages/colabxterm/manager.py:52\u001b[0m, in \u001b[0;36mstart\u001b[0;34m(arguments, port, timeout)\u001b[0m\n\u001b[1;32m     51\u001b[0m \u001b[39mdef\u001b[39;00m \u001b[39mstart\u001b[39m(arguments, port, timeout\u001b[39m=\u001b[39mdatetime\u001b[39m.\u001b[39mtimedelta(seconds\u001b[39m=\u001b[39m\u001b[39m60\u001b[39m)):\n\u001b[0;32m---> 52\u001b[0m     p \u001b[39m=\u001b[39m subprocess\u001b[39m.\u001b[39;49mPopen(\n\u001b[1;32m     53\u001b[0m         [\u001b[39m\"\u001b[39;49m\u001b[39mpython\u001b[39;49m\u001b[39m\"\u001b[39;49m, \u001b[39m\"\u001b[39;49m\u001b[39m-m\u001b[39;49m\u001b[39m\"\u001b[39;49m, \u001b[39m\"\u001b[39;49m\u001b[39mcolabxterm\u001b[39;49m\u001b[39m\"\u001b[39;49m, \u001b[39m\"\u001b[39;49m\u001b[39m--port\u001b[39;49m\u001b[39m\"\u001b[39;49m, \u001b[39mstr\u001b[39;49m(port)] \u001b[39m+\u001b[39;49m arguments,\n\u001b[1;32m     54\u001b[0m     )\n\u001b[1;32m     56\u001b[0m     poll_interval_seconds \u001b[39m=\u001b[39m \u001b[39m0.5\u001b[39m\n\u001b[1;32m     57\u001b[0m     \u001b[39mwhile\u001b[39;00m \u001b[39mTrue\u001b[39;00m:\n",
      "File \u001b[0;32m/usr/lib/python3.8/subprocess.py:858\u001b[0m, in \u001b[0;36mPopen.__init__\u001b[0;34m(self, args, bufsize, executable, stdin, stdout, stderr, preexec_fn, close_fds, shell, cwd, env, universal_newlines, startupinfo, creationflags, restore_signals, start_new_session, pass_fds, encoding, errors, text)\u001b[0m\n\u001b[1;32m    854\u001b[0m         \u001b[39mif\u001b[39;00m \u001b[39mself\u001b[39m\u001b[39m.\u001b[39mtext_mode:\n\u001b[1;32m    855\u001b[0m             \u001b[39mself\u001b[39m\u001b[39m.\u001b[39mstderr \u001b[39m=\u001b[39m io\u001b[39m.\u001b[39mTextIOWrapper(\u001b[39mself\u001b[39m\u001b[39m.\u001b[39mstderr,\n\u001b[1;32m    856\u001b[0m                     encoding\u001b[39m=\u001b[39mencoding, errors\u001b[39m=\u001b[39merrors)\n\u001b[0;32m--> 858\u001b[0m     \u001b[39mself\u001b[39;49m\u001b[39m.\u001b[39;49m_execute_child(args, executable, preexec_fn, close_fds,\n\u001b[1;32m    859\u001b[0m                         pass_fds, cwd, env,\n\u001b[1;32m    860\u001b[0m                         startupinfo, creationflags, shell,\n\u001b[1;32m    861\u001b[0m                         p2cread, p2cwrite,\n\u001b[1;32m    862\u001b[0m                         c2pread, c2pwrite,\n\u001b[1;32m    863\u001b[0m                         errread, errwrite,\n\u001b[1;32m    864\u001b[0m                         restore_signals, start_new_session)\n\u001b[1;32m    865\u001b[0m \u001b[39mexcept\u001b[39;00m:\n\u001b[1;32m    866\u001b[0m     \u001b[39m# Cleanup if the child failed starting.\u001b[39;00m\n\u001b[1;32m    867\u001b[0m     \u001b[39mfor\u001b[39;00m f \u001b[39min\u001b[39;00m \u001b[39mfilter\u001b[39m(\u001b[39mNone\u001b[39;00m, (\u001b[39mself\u001b[39m\u001b[39m.\u001b[39mstdin, \u001b[39mself\u001b[39m\u001b[39m.\u001b[39mstdout, \u001b[39mself\u001b[39m\u001b[39m.\u001b[39mstderr)):\n",
      "File \u001b[0;32m/usr/lib/python3.8/subprocess.py:1704\u001b[0m, in \u001b[0;36mPopen._execute_child\u001b[0;34m(self, args, executable, preexec_fn, close_fds, pass_fds, cwd, env, startupinfo, creationflags, shell, p2cread, p2cwrite, c2pread, c2pwrite, errread, errwrite, restore_signals, start_new_session)\u001b[0m\n\u001b[1;32m   1702\u001b[0m     \u001b[39mif\u001b[39;00m errno_num \u001b[39m!=\u001b[39m \u001b[39m0\u001b[39m:\n\u001b[1;32m   1703\u001b[0m         err_msg \u001b[39m=\u001b[39m os\u001b[39m.\u001b[39mstrerror(errno_num)\n\u001b[0;32m-> 1704\u001b[0m     \u001b[39mraise\u001b[39;00m child_exception_type(errno_num, err_msg, err_filename)\n\u001b[1;32m   1705\u001b[0m \u001b[39mraise\u001b[39;00m child_exception_type(err_msg)\n",
      "\u001b[0;31mFileNotFoundError\u001b[0m: [Errno 2] No such file or directory: 'python'"
     ]
    }
   ],
   "source": [
    "#so funciona no colab\n",
    "!pip install colab-xterm\n",
    "%load_ext colabxterm\n",
    "%xterm"
   ]
  },
  {
   "cell_type": "markdown",
   "metadata": {
    "collapsed": false
   },
   "source": [
    "### Comandos linux "
   ]
  },
  {
   "attachments": {},
   "cell_type": "markdown",
   "metadata": {
    "collapsed": false
   },
   "source": [
    "#### Estrutura de um comando Linux\n",
    "\n",
    "```bash\n",
    "comando -opcoes argumentos\n",
    "```\n",
    "\n",
    "**Analogia:** \n",
    "\n",
    "O comando é o verbo, as opções são o adverbio e os argumentos são o objeto. \n",
    "\n",
    "**Exemplo:**\n",
    "\n",
    "\n",
    "```bash\n",
    "ls -l *.txt\n",
    "```\n",
    "\n",
    "Nesse exemplo `ls` lista os diretórios `-l` indica que devemos apresentar todas as informações\n",
    "e `*.txt` diz quais arquivos devemos listar. \n",
    "\n",
    "**Nota:** Se temos várias opções, elas podem ser indicadas sucessivamente sem espaços\n",
    "\n",
    "**Exemplo:**\n",
    "\n",
    "```bash \n",
    "ls -la \n",
    "```\n"
   ]
  },
  {
   "attachments": {},
   "cell_type": "markdown",
   "metadata": {
    "collapsed": false
   },
   "source": [
    "#### Arquivos\n",
    "##### ls\n",
    "Lista os arquivos em um diretório\n",
    "-l lista os arquivos com todas as informações\n",
    "-a lista todos os arquivos\n",
    "##### cp\n",
    "copia arquivos \n",
    "##### mv\n",
    "move arquivos\n",
    "##### rm\n",
    "remove arquivos\n",
    "##### mkdir\n",
    "cria um diretorio\n",
    "##### cd \n",
    "muda de diretorio\n",
    "\n",
    "~ diretório home\n",
    "\n",
    ".. sobe um nível\n",
    "\n",
    ". representa o diretório atual\n",
    "\n",
    "##### zip, gzip \n",
    "comprime arquivos\n",
    "\n",
    "##### file\n",
    "descreve arquivo"
   ]
  },
  {
   "cell_type": "markdown",
   "metadata": {
    "collapsed": false
   },
   "source": [
    "#### Visualização de arquivos \n",
    "##### more\n",
    "mostra os arquivos\n",
    "##### less\n",
    "mostra os arquivos\n",
    "##### wc\n",
    "conta as palavras\n",
    "##### head \n",
    "mostra as primeiras linhas de um arquivo\n",
    "##### tail\n",
    "mostra as ultimas linhas de um arquivo\n",
    "#### cat \n",
    "concatena arquivos\n",
    "```bash \n",
    "cat arq1 arq2\n",
    "```\n",
    "\n",
    "concatena arq1 e arq2\n",
    "##### grep \n",
    "seleciona linhas com determinadas caracteristicas"
   ]
  },
  {
   "cell_type": "markdown",
   "metadata": {
    "collapsed": false
   },
   "source": [
    "#### Redes \n",
    "##### ping\n",
    "manda um pacote para uym endereço\n",
    "##### ifconfig\n",
    "decobre os parâmetros de rede\n",
    "##### ssh\n",
    "acessa um computador remoto\n",
    "##### scp \n",
    "realiza uma copia remota"
   ]
  },
  {
   "cell_type": "markdown",
   "metadata": {
    "collapsed": false
   },
   "source": [
    "#### Redirecionamento \n",
    "##### >\n",
    "##### >>\n",
    "##### | \n",
    "##### <\n",
    "#### `command`"
   ]
  },
  {
   "attachments": {},
   "cell_type": "markdown",
   "metadata": {
    "collapsed": false
   },
   "source": [
    "#### Editor \n",
    "##### nano "
   ]
  },
  {
   "cell_type": "markdown",
   "metadata": {
    "collapsed": false
   },
   "source": [
    "#### Ajuda \n",
    "##### man"
   ]
  },
  {
   "cell_type": "markdown",
   "metadata": {
    "collapsed": false
   },
   "source": [
    "#### Processos\n",
    "##### top \n",
    "lista os processos em execução\n",
    "##### kill \n",
    "mata os processos\n",
    "##### Ctrl-C\n",
    "##### Ctrl-Z\n",
    "##### shutdown\n",
    "põe o computador para dormir\n",
    "##### ps "
   ]
  },
  {
   "cell_type": "markdown",
   "metadata": {
    "collapsed": false
   },
   "source": [
    "#### Variados \n",
    "##### find \n",
    "encontra arquivos\n",
    "##### date \n",
    "data\n",
    "##### echo \n",
    "imprime na tela\n",
    "##### yes \n",
    "imprime y"
   ]
  },
  {
   "cell_type": "markdown",
   "metadata": {
    "collapsed": false
   },
   "source": [
    "#### wildcards\n",
    "##### *\n",
    "##### ?\n",
    "``` bash\n",
    "`comando`\n",
    "```"
   ]
  },
  {
   "cell_type": "markdown",
   "metadata": {
    "collapsed": true
   },
   "source": [
    "## Exercícios\n",
    "\n",
    "- 1.Liste os arquivos de um diretório por data de modificação, inicie pelo mais atual.\n",
    "- 2.Gere um arquivo com 20 linhas. Imprima as linhas 3 até 10.\n",
    "- 3.Use o comando date para salvar o resultado do comando ls em um arquivo chamado lista_min_seg. Onde min e seg são o minuto e o segundo.\n",
    "\n",
    "\n"
   ]
  },
  {
   "cell_type": "markdown",
   "metadata": {
    "collapsed": false
   },
   "source": [
    "Resposta do 1\n",
    "ls -lt\n",
    "\n",
    "Resposta do 2 \n"
   ]
  },
  {
   "cell_type": "code",
   "execution_count": null,
   "metadata": {
    "collapsed": false
   },
   "outputs": [],
   "source": [
    "%%writefile teste\n",
    "1\n",
    "2\n",
    "3\n"
   ]
  }
 ],
 "metadata": {
  "kernelspec": {
   "display_name": "Python 3",
   "language": "python",
   "name": "python3"
  },
  "language_info": {
   "codemirror_mode": {
    "name": "ipython",
    "version": 3
   },
   "file_extension": ".py",
   "mimetype": "text/x-python",
   "name": "python",
   "nbconvert_exporter": "python",
   "pygments_lexer": "ipython3",
   "version": "3.8.10"
  },
  "vscode": {
   "interpreter": {
    "hash": "916dbcbb3f70747c44a77c7bcd40155683ae19c65e1c03b4aa3499c5328201f1"
   }
  }
 },
 "nbformat": 4,
 "nbformat_minor": 0
}
