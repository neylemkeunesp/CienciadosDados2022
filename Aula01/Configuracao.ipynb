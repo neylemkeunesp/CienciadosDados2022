{
 "cells": [
  {
   "cell_type": "code",
   "execution_count": 1,
   "metadata": {
    "collapsed": false,
    "jupyter": {
     "outputs_hidden": false
    },
    "slideshow": {
     "slide_type": "skip"
    }
   },
   "outputs": [
    {
     "data": {
      "text/plain": [
       "{'theme': 'beige', 'transition': 'zoom', 'start_slideshow_at': 'selected'}"
      ]
     },
     "execution_count": 1,
     "metadata": {},
     "output_type": "execute_result"
    }
   ],
   "source": [
    "from notebook.services.config import ConfigManager\n",
    "from IPython.paths import locate_profile\n",
    "cm = ConfigManager(profile_dir=locate_profile(get_ipython().profile))\n",
    "cm.update('livereveal', {\n",
    "              'theme': 'beige',\n",
    "              'transition': 'zoom',\n",
    "              'start_slideshow_at': 'selected',\n",
    "})\n"
   ]
  },
  {
   "cell_type": "markdown",
   "metadata": {
    "slideshow": {
     "slide_type": "slide"
    }
   },
   "source": [
    "# Ciência dos Dados I"
   ]
  },
  {
   "cell_type": "markdown",
   "metadata": {
    "slideshow": {
     "slide_type": "slide"
    }
   },
   "source": [
    "# Acessando o Curso no ambiente Classroom\n"
   ]
  },
  {
   "cell_type": "markdown",
   "metadata": {
    "slideshow": {
     "slide_type": "slide"
    }
   },
   "source": [
    "Iremos manter o material do Curso também no Classroom.  O codigo da turma é: v5qae3k\n",
    "\n"
   ]
  },
  {
   "cell_type": "markdown",
   "metadata": {
    "slideshow": {
     "slide_type": "slide"
    }
   },
   "source": [
    "# GitHub"
   ]
  },
  {
   "cell_type": "markdown",
   "metadata": {
    "slideshow": {
     "slide_type": "slide"
    }
   },
   "source": [
    "O Material para esse curso está diponível também no GitHub. \n",
    "\n",
    "\n",
    "https://github.com/neylemkeunesp/CienciadosDados2022\n",
    "\n",
    "\n",
    "O GitHub facilita o processo de Download. \n",
    "\n",
    "\n",
    "Para baixar em um ambiente Linux ou Mac basta digitar\n",
    "\n",
    "```git clone https://github.com/neylemkeunesp/CienciadosDados2022```\n",
    "\n",
    "\n"
   ]
  },
  {
   "cell_type": "markdown",
   "metadata": {},
   "source": [
    "## Exportando para PDF\n",
    "\n",
    "Será necessário Exportar eventalmente nossos resultados para PDF. Abra um terminal no Cocalc e digite:\n",
    "\n",
    "```jupyter nbconvert --to pdf file.ipynb```\n"
   ]
  },
  {
   "cell_type": "markdown",
   "metadata": {},
   "source": [
    "## Google Colaboratory\n",
    "\n",
    "Para acessar o projeto da google acesse:\n",
    "\n",
    "https://colab.research.google.com/github/neylemkeunesp/CienciadosDados2022/blob/main\n",
    "\n",
    "O Google tem amplo suporte aos notebooks, você pode acessá-los de sua conta e pode criar novos. "
   ]
  },
  {
   "cell_type": "markdown",
   "metadata": {},
   "source": [
    "## Kaggle\n",
    "\n",
    "O sistema kaggle é outra alternativa importante da Google. Pode ser acessado em \n",
    "\n",
    "http://kaggle.com\n",
    "\n",
    "Com a conta Google. Você pode acessar bases de dados ou ainda rodar notebooks. "
   ]
  },
  {
   "cell_type": "markdown",
   "metadata": {},
   "source": [
    "## Comparação"
   ]
  },
  {
   "cell_type": "markdown",
   "metadata": {},
   "source": [
    "| Feature | Colab | Cocalc | Kaggle | Binder| \n",
    "|---------|-------|--------|--------|-------|\n",
    "| Ambiente de Desenvolvimento | S | S | S | N|\n",
    "| Terminal (Gratuito) | S | S | N| N |\n",
    "| Integração Google Drive | S | N | S | N |\n",
    "| Acesso a GPUs e TPUs | S | N | S | N |\n",
    "| Equivalente ao Jupyter | N | N | N | S |\n",
    "| Modo Apresentação | N | S | N | N |\n",
    "| Outras Linguagens | N | S | S | S | "
   ]
  },
  {
   "cell_type": "code",
   "execution_count": 1,
   "metadata": {
    "collapsed": false,
    "jupyter": {
     "outputs_hidden": false
    }
   },
   "outputs": [
    {
     "data": {
      "text/plain": [
       "2"
      ]
     },
     "execution_count": 1,
     "metadata": {},
     "output_type": "execute_result"
    }
   ],
   "source": [
    "1+1"
   ]
  },
  {
   "cell_type": "code",
   "execution_count": null,
   "metadata": {
    "collapsed": false,
    "jupyter": {
     "outputs_hidden": false
    }
   },
   "outputs": [],
   "source": []
  }
 ],
 "metadata": {
  "celltoolbar": "Slideshow",
  "kernelspec": {
   "display_name": "Python 3",
   "language": "python",
   "name": "python3"
  },
  "language_info": {
   "codemirror_mode": {
    "name": "ipython",
    "version": 3
   },
   "file_extension": ".py",
   "mimetype": "text/x-python",
   "name": "python",
   "nbconvert_exporter": "python",
   "pygments_lexer": "ipython3",
   "version": "3.6.8"
  }
 },
 "nbformat": 4,
 "nbformat_minor": 4
}
