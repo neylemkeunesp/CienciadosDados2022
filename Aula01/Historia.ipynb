{
 "cells": [
  {
   "cell_type": "code",
   "execution_count": 1,
   "metadata": {
    "collapsed": false,
    "slideshow": {
     "slide_type": "skip"
    }
   },
   "outputs": [
    {
     "data": {
      "text/plain": [
       "{'theme': 'beige', 'transition': 'zoom', 'start_slideshow_at': 'selected'}"
      ]
     },
     "execution_count": 1,
     "metadata": {
     },
     "output_type": "execute_result"
    }
   ],
   "source": [
    "from notebook.services.config import ConfigManager\n",
    "from IPython.paths import locate_profile\n",
    "cm = ConfigManager(profile_dir=locate_profile(get_ipython().profile))\n",
    "cm.update('livereveal', {\n",
    "              'theme': 'beige',\n",
    "              'transition': 'zoom',\n",
    "              'start_slideshow_at': 'selected',\n",
    "})\n",
    "\n"
   ]
  },
  {
   "cell_type": "code",
   "execution_count": 2,
   "metadata": {
    "collapsed": false
   },
   "outputs": [
   ],
   "source": [
    "from IPython.display import display, clear_output\n",
    "from IPython.display import HTML, SVG, YouTubeVideo\n",
    "\n"
   ]
  },
  {
   "cell_type": "markdown",
   "metadata": {
    "collapsed": false,
    "slideshow": {
     "slide_type": "slide"
    }
   },
   "source": [
    "# Introdução a História da Computação e da Ciência dos Dados \n",
    "\n"
   ]
  },
  {
   "cell_type": "markdown",
   "metadata": {
    "collapsed": false
   },
   "source": [
    "## Introdução\n",
    "\n",
    "\n",
    "### Don Giovanni\n",
    "\n",
    "\n",
    ">\"Madamina, il catalogo è questo\n",
    "\n",
    ">delle belle, che amò il padron mio;\n",
    "\n",
    ">un catalogo egli è, che ho fatt'io.\n",
    "\n",
    ">Osservate, leggete con me.\n",
    "\n",
    ">In Italia seicento e quaranta,\n",
    "\n",
    ">in Almagna duecento e trentuna,\n",
    "\n",
    ">cento in Francia, in Turchia novantuna,\n",
    "\n",
    ">ma in Ispagna son già mille e tre!\n",
    "\n",
    ">V'han fra queste contadine,\n",
    "\n",
    ">cameriere, cittadine,\n",
    "\n",
    ">v'han contesse, baronesse,\n",
    "\n",
    ">marchesine, principesse,\n",
    "\n",
    ">e v'han donne d'ogni grado,\n",
    "\n",
    ">d'ogni forma, d'ogni età.\"\n",
    "\n",
    "\n"
   ]
  },
  {
   "cell_type": "code",
   "execution_count": 3,
   "metadata": {
    "collapsed": false
   },
   "outputs": [
    {
     "data": {
      "image/jpeg": "[encoded data removed]",
      "text/html": "\n        <iframe\n            width=\"400\"\n            height=\"300\"\n            src=\"https://www.youtube.com/embed/D_euWOaR9Go\"\n            frameborder=\"0\"\n            allowfullscreen\n        ></iframe>\n        ",
      "text/plain": [
       "<IPython.lib.display.YouTubeVideo at 0x7fd5355d78b0>"
      ]
     },
     "execution_count": 3,
     "metadata": {
     },
     "output_type": "execute_result"
    }
   ],
   "source": [
    "display(YouTubeVideo('D_euWOaR9Go')) #24:15\n"
   ]
  },
  {
   "cell_type": "markdown",
   "metadata": {
    "collapsed": false
   },
   "source": [
    "# Primórdios da Coleta de Dados\n",
    "\n"
   ]
  },
  {
   "cell_type": "code",
   "execution_count": 0,
   "metadata": {
    "collapsed": false
   },
   "outputs": [
   ],
   "source": [
   ]
  },
  {
   "cell_type": "markdown",
   "metadata": {
    "collapsed": false
   },
   "source": [
    "## Enchentes do Nilo\n",
    "\n",
    "O faraó disse a José: \"Tive um sonho que ninguém consegue interpre­tar. Mas ouvi falar que você, ao \n",
    "ouvir um sonho, é capaz de interpretá-lo\".\n",
    "\n",
    "Respondeu-lhe José: \"Isso não depende de mim, mas Deus dará ao faraó uma resposta favorável\".\n",
    "\n",
    "Então o faraó contou o sonho a José: \"Sonhei que estava em pé, à beira do Nilo,\n",
    "\n",
    "quando saíram do rio sete vacas, belas e gor­das, que começaram a pastar entre os juncos.\n",
    "\n",
    "Depois saíram outras sete, raquíticas, muito feias e magras. Nunca vi vacas tão feias em toda a terra do Egito.\n",
    "\n",
    "As vacas magras e feias comeram as sete vacas gordas que tinham aparecido primeiro.\n",
    "\n",
    "Mes­mo depois de havê-las comido, não parecia que o tivessem feito, pois continuavam tão magras \n",
    "como antes. Então acordei.\n",
    "\n",
    "\"Depois tive outro sonho. Vi sete espigas de cereal, cheias e boas, que cresciam num mesmo pé.\n",
    "\n",
    "Depois delas, brotaram outras sete, murchas e mirradas, ressequidas pelo vento les­te.\n",
    "\n",
    "As espigas magras engoliram as sete espigas boas. Contei isso aos magos, mas ninguém foi capaz de explicá-lo\".\n",
    "\n",
    "\"O faraó teve um único sonho\", disse-lhe José. \"Deus revelou ao faraó o que ele está para fazer.\n",
    "\n",
    "As sete vacas boas são sete anos, e as sete espigas boas são também sete anos; trata-se de um único sonho.\n",
    "\n",
    "As sete vacas magras e feias que surgiram depois das outras, e as sete espigas mirradas, queimadas \n",
    "\n",
    "pelo vento leste, são sete anos. Serão sete anos de fome.\n",
    "\n",
    "\"É exatamente como eu disse ao faraó: Deus mostrou ao faraó aquilo que ele vai fazer.\n",
    "\n",
    "![Enchents](enchentes.png)\n",
    "\n"
   ]
  },
  {
   "cell_type": "markdown",
   "metadata": {
    "collapsed": false
   },
   "source": [
    "## Primórdios da Computação\n",
    "\n",
    "* O problema da agulha de  Buffon  em 1753\n",
    "* Babbage em 1822 propõe um computador para calcular funções polinomiais\n",
    "* Ada Lovelace em 1842 propõe um algoritmo para calcular números de Bernoulli\n",
    "* MW Kutta and CT Runge propõe o método de Runge Kutta para EDOs\n",
    "* Em 1920 Richardson prevê o tempo usando método numérico"
   ]
  },
  {
   "cell_type": "markdown",
   "metadata": {
    "collapsed": false,
    "slideshow": {
     "slide_type": "slide"
    }
   },
   "source": [
    "\n",
    "# Antes do computador"
   ]
  },
  {
   "cell_type": "markdown",
   "metadata": {
    "collapsed": false,
    "slideshow": {
     "slide_type": "subslide"
    }
   },
   "source": [
    "# Ábaco\n",
    "\n",
    "![Abacus](Abacus_6.png)\n"
   ]
  },
  {
   "cell_type": "markdown",
   "metadata": {
    "collapsed": false,
    "slideshow": {
     "slide_type": "subslide"
    }
   },
   "source": [
    "# Astrolábio\n",
    "\n",
    "<img src=\"800px-Iranian_Astrolabe_14.jpg\" alt=\"Astrolabio\" style=\"width: 500px;\"/>\n",
    "\n",
    "\n",
    "\n",
    "\n",
    "\n"
   ]
  },
  {
   "cell_type": "markdown",
   "metadata": {
    "collapsed": false
   },
   "source": [
    "## Tyco Brahe\n",
    "\n",
    "![Tyco](universo_titonico.gif)"
   ]
  },
  {
   "cell_type": "markdown",
   "metadata": {
    "collapsed": false,
    "slideshow": {
     "slide_type": "subslide"
    }
   },
   "source": [
    "# Régua de Cálculo\n",
    "\n",
    "Inventada por  William Oughtred no século XVIII\n",
    "\n",
    "![Ábaco](Pocket_slide_rule.jpg)"
   ]
  },
  {
   "cell_type": "markdown",
   "metadata": {
    "collapsed": false
   },
   "source": [
    "## Gregor Mendel\n",
    "\n",
    "![Dados do Mendel](mendel.png)"
   ]
  },
  {
   "cell_type": "markdown",
   "metadata": {
    "collapsed": false,
    "slideshow": {
     "slide_type": "slide"
    }
   },
   "source": [
    "# Era Moderna - 1940\n",
    "\n",
    "* von Neumann, Ulam and Metropolis desenvolvem o Algoritmo de Monte Carlo\n",
    "* Simulações são essenciais para o projeto da bomba\n",
    "* Ulam and von Neumann propõe o conceito de Automatos Celulares \n",
    "* Turing consegue quebrar o códidigo da máquina Enigma"
   ]
  },
  {
   "cell_type": "markdown",
   "metadata": {
    "collapsed": false,
    "slideshow": {
     "slide_type": "subslide"
    }
   },
   "source": [
    "# Eniac\n",
    "![ENIAC](eniac-the-second-electronic-calculator-los-alamos-national-laboratory.jpg)"
   ]
  },
  {
   "cell_type": "markdown",
   "metadata": {
    "collapsed": false,
    "slideshow": {
     "slide_type": "subslide"
    }
   },
   "source": [
    "# Máquina de Turing\n",
    "\n",
    "![Turing](article-1165535-0412A762000005DC-835_962x657.jpg)\n",
    "\n"
   ]
  },
  {
   "cell_type": "markdown",
   "metadata": {
    "collapsed": false,
    "slideshow": {
     "slide_type": "slide"
    }
   },
   "source": [
    "# Era Moderna (1950-1960)\n",
    "\n",
    "* Alder and Wainwrigh implementam o primeiro código de Dinâmica Molecular\n",
    "* Cooley and Tukey inventam FFT *Fast Fourier Transform* \n",
    "* Lorenz propõe o Efeito Borboleta\n",
    "* Linguagens Lisp e Fortran são criadas"
   ]
  },
  {
   "cell_type": "markdown",
   "metadata": {
    "collapsed": false,
    "slideshow": {
     "slide_type": "subslide"
    }
   },
   "source": [
    "# Atrator de Lorenz\n",
    "\n",
    "![Lorenz](maxresdefault.jpg)"
   ]
  },
  {
   "cell_type": "markdown",
   "metadata": {
    "collapsed": false,
    "slideshow": {
     "slide_type": "slide"
    }
   },
   "source": [
    "# Era Moderna (1970)\n",
    "\n",
    "- Primeiras Calculadoras Científicas\n",
    "- Estações de Trabalho\n",
    "- Kernie e Ritchie criam Unix e a linguagem C"
   ]
  },
  {
   "cell_type": "markdown",
   "metadata": {
    "collapsed": false
   },
   "source": [
    "## Dados de Mc Namara na guerra do Vietnam\n",
    "\n",
    "![Mc Namara](mcnamara.png)\n",
    "\n"
   ]
  },
  {
   "cell_type": "markdown",
   "metadata": {
    "collapsed": false,
    "slideshow": {
     "slide_type": "subslide"
    }
   },
   "source": [
    "# Máquinas Calculadoras\n",
    "\n",
    "<img src=\"800px-Hp-35_1972.jpg\" alt=\"HP\" style=\"width: 300px;\"/>\n",
    "\n",
    "\n"
   ]
  },
  {
   "cell_type": "markdown",
   "metadata": {
    "collapsed": false,
    "slideshow": {
     "slide_type": "slide"
    }
   },
   "source": [
    "# Era Moderna (1980)\n",
    "\n",
    "* Computadores pessoais\n",
    "* Início da Web\n",
    "* Bancos de Dados Relacionais\n",
    "* Supercomputadores vetoriais\n",
    "* E-mail"
   ]
  },
  {
   "cell_type": "markdown",
   "metadata": {
    "collapsed": false
   },
   "source": [
    "![WWW Projeto Inicial](https://cds.cern.ch/record/2665088/files/FirstProposalMarch1989.jpg?subformat=icon-1440)"
   ]
  },
  {
   "cell_type": "markdown",
   "metadata": {
    "collapsed": false,
    "slideshow": {
     "slide_type": "subslide"
    }
   },
   "source": [
    "# Cray\n",
    "\n",
    "![Cray](cray.jpg)"
   ]
  },
  {
   "cell_type": "markdown",
   "metadata": {
    "collapsed": false,
    "slideshow": {
     "slide_type": "slide"
    }
   },
   "source": [
    "# Dias Atuais\n",
    "\n",
    "* Placas Gráficas\n",
    "* Inteligência Artifical (Deep Learning)\n",
    "* Computação em Nuvem\n",
    "* Cambridge Analytics\n",
    "* LGPD"
   ]
  },
  {
   "cell_type": "markdown",
   "metadata": {
    "collapsed": false
   },
   "source": [
    "## Projeto Genoma Humano\n",
    "\n",
    "![GenomaHumano](genomahumanonature.jpeg)"
   ]
  },
  {
   "cell_type": "markdown",
   "metadata": {
    "collapsed": false
   },
   "source": [
    "## Conectoma do Cérebro Humano\n",
    "\n",
    "![conectoma](conectome.jpeg)\n",
    "\n"
   ]
  },
  {
   "cell_type": "markdown",
   "metadata": {
    "collapsed": false,
    "slideshow": {
     "slide_type": "slide"
    }
   },
   "source": [
    "# Promessas\n",
    "\n",
    "* Computação Quântica\n",
    "* Blockchain\n",
    "* Internet das Coisas\n"
   ]
  },
  {
   "cell_type": "code",
   "execution_count": 0,
   "metadata": {
    "collapsed": false
   },
   "outputs": [
   ],
   "source": [
   ]
  }
 ],
 "metadata": {
  "celltoolbar": "Slideshow",
  "kernelspec": {
   "display_name": "Python 3 (system-wide)",
   "language": "python",
   "metadata": {
    "cocalc": {
     "description": "Python 3 programming language",
     "priority": 100,
     "url": "https://www.python.org/"
    }
   },
   "name": "python3",
   "resource_dir": "/ext/jupyter/kernels/python3"
  },
  "language_info": {
   "codemirror_mode": {
    "name": "ipython",
    "version": 3
   },
   "file_extension": ".py",
   "mimetype": "text/x-python",
   "name": "python",
   "nbconvert_exporter": "python",
   "pygments_lexer": "ipython3",
   "version": "3.8.5"
  }
 },
 "nbformat": 4,
 "nbformat_minor": 4
}